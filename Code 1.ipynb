{
  "cells": [
    {
      "cell_type": "markdown",
      "metadata": {
        "id": "v6ODuN1c2rG9"
      },
      "source": [
        "# Mental Stress Classification"
      ]
    },
    {
      "cell_type": "code",
      "execution_count": 1,
      "metadata": {
        "execution": {
          "iopub.execute_input": "2023-01-27T19:26:58.7085Z",
          "iopub.status.busy": "2023-01-27T19:26:58.707993Z",
          "iopub.status.idle": "2023-01-27T19:26:58.727078Z",
          "shell.execute_reply": "2023-01-27T19:26:58.725546Z",
          "shell.execute_reply.started": "2023-01-27T19:26:58.708462Z"
        },
        "id": "ZfaMY4ph2rHH",
        "trusted": true
      },
      "outputs": [],
      "source": [
        "import pandas as pd\n",
        "import numpy as np\n",
        "from wordcloud import STOPWORDS\n",
        "import warnings\n",
        "warnings.filterwarnings(\"ignore\")"
      ]
    },
    {
      "cell_type": "code",
      "execution_count": 2,
      "metadata": {
        "execution": {
          "iopub.execute_input": "2023-01-27T19:26:58.729367Z",
          "iopub.status.busy": "2023-01-27T19:26:58.728982Z",
          "iopub.status.idle": "2023-01-27T19:26:58.817035Z",
          "shell.execute_reply": "2023-01-27T19:26:58.815701Z",
          "shell.execute_reply.started": "2023-01-27T19:26:58.729334Z"
        },
        "id": "p6pqFAwM2rHH",
        "trusted": true
      },
      "outputs": [],
      "source": [
        "df1=pd.read_csv(\"train.csv\")"
      ]
    },
    {
      "cell_type": "code",
      "execution_count": 3,
      "metadata": {
        "execution": {
          "iopub.execute_input": "2023-01-27T19:26:58.820291Z",
          "iopub.status.busy": "2023-01-27T19:26:58.819881Z",
          "iopub.status.idle": "2023-01-27T19:26:58.852996Z",
          "shell.execute_reply": "2023-01-27T19:26:58.851788Z",
          "shell.execute_reply.started": "2023-01-27T19:26:58.820257Z"
        },
        "id": "K_uPCha82rHI",
        "trusted": true
      },
      "outputs": [],
      "source": [
        "df2=pd.read_csv(\"test.csv\")"
      ]
    },
    {
      "cell_type": "code",
      "execution_count": 4,
      "metadata": {
        "colab": {
          "base_uri": "https://localhost:8080/"
        },
        "execution": {
          "iopub.execute_input": "2023-01-27T19:26:58.85481Z",
          "iopub.status.busy": "2023-01-27T19:26:58.854417Z",
          "iopub.status.idle": "2023-01-27T19:26:58.865142Z",
          "shell.execute_reply": "2023-01-27T19:26:58.863864Z",
          "shell.execute_reply.started": "2023-01-27T19:26:58.85475Z"
        },
        "id": "Fn1XbDHP2rHI",
        "outputId": "6abf46df-9739-4ba5-b381-92c21ab07391",
        "trusted": true
      },
      "outputs": [
        {
          "data": {
            "text/plain": [
              "(2838, 9)"
            ]
          },
          "execution_count": 4,
          "metadata": {},
          "output_type": "execute_result"
        }
      ],
      "source": [
        "df1.shape"
      ]
    },
    {
      "cell_type": "code",
      "execution_count": 5,
      "metadata": {
        "colab": {
          "base_uri": "https://localhost:8080/"
        },
        "execution": {
          "iopub.execute_input": "2023-01-27T19:26:58.867585Z",
          "iopub.status.busy": "2023-01-27T19:26:58.867056Z",
          "iopub.status.idle": "2023-01-27T19:26:58.879359Z",
          "shell.execute_reply": "2023-01-27T19:26:58.87777Z",
          "shell.execute_reply.started": "2023-01-27T19:26:58.867538Z"
        },
        "id": "0Sef1P0p2rHJ",
        "outputId": "4a49f1b5-998b-435d-a567-8b791ac80942",
        "trusted": true
      },
      "outputs": [
        {
          "data": {
            "text/plain": [
              "(715, 9)"
            ]
          },
          "execution_count": 5,
          "metadata": {},
          "output_type": "execute_result"
        }
      ],
      "source": [
        "df2.shape"
      ]
    },
    {
      "cell_type": "code",
      "execution_count": 6,
      "metadata": {
        "colab": {
          "base_uri": "https://localhost:8080/",
          "height": 234
        },
        "execution": {
          "iopub.execute_input": "2023-01-27T19:26:58.881363Z",
          "iopub.status.busy": "2023-01-27T19:26:58.880985Z",
          "iopub.status.idle": "2023-01-27T19:26:58.917035Z",
          "shell.execute_reply": "2023-01-27T19:26:58.915057Z",
          "shell.execute_reply.started": "2023-01-27T19:26:58.88133Z"
        },
        "id": "02NexMdT2rHK",
        "outputId": "26c5f62c-1465-462c-ddfc-0607b26e72bb",
        "trusted": true
      },
      "outputs": [
        {
          "data": {
            "text/html": [
              "<div>\n",
              "<style scoped>\n",
              "    .dataframe tbody tr th:only-of-type {\n",
              "        vertical-align: middle;\n",
              "    }\n",
              "\n",
              "    .dataframe tbody tr th {\n",
              "        vertical-align: top;\n",
              "    }\n",
              "\n",
              "    .dataframe thead th {\n",
              "        text-align: right;\n",
              "    }\n",
              "</style>\n",
              "<table border=\"1\" class=\"dataframe\">\n",
              "  <thead>\n",
              "    <tr style=\"text-align: right;\">\n",
              "      <th></th>\n",
              "      <th>post_id</th>\n",
              "      <th>sentence_range</th>\n",
              "      <th>text</th>\n",
              "      <th>id</th>\n",
              "      <th>label</th>\n",
              "      <th>social_timestamp</th>\n",
              "      <th>social_karma</th>\n",
              "      <th>social_upvote_ratio</th>\n",
              "      <th>social_num_comments</th>\n",
              "    </tr>\n",
              "  </thead>\n",
              "  <tbody>\n",
              "    <tr>\n",
              "      <th>483</th>\n",
              "      <td>7oia47</td>\n",
              "      <td>[0, 5]</td>\n",
              "      <td>Haven't felt this excited about someone since ...</td>\n",
              "      <td>1547</td>\n",
              "      <td>0</td>\n",
              "      <td>1515230037</td>\n",
              "      <td>2</td>\n",
              "      <td>0.54</td>\n",
              "      <td>14</td>\n",
              "    </tr>\n",
              "  </tbody>\n",
              "</table>\n",
              "</div>"
            ],
            "text/plain": [
              "    post_id sentence_range                                               text  \\\n",
              "483  7oia47         [0, 5]  Haven't felt this excited about someone since ...   \n",
              "\n",
              "       id  label  social_timestamp  social_karma  social_upvote_ratio  \\\n",
              "483  1547      0        1515230037             2                 0.54   \n",
              "\n",
              "     social_num_comments  \n",
              "483                   14  "
            ]
          },
          "execution_count": 6,
          "metadata": {},
          "output_type": "execute_result"
        }
      ],
      "source": [
        "df1.sample()"
      ]
    },
    {
      "cell_type": "code",
      "execution_count": 7,
      "metadata": {
        "colab": {
          "base_uri": "https://localhost:8080/",
          "height": 251
        },
        "execution": {
          "iopub.execute_input": "2023-01-27T19:26:58.920391Z",
          "iopub.status.busy": "2023-01-27T19:26:58.919504Z",
          "iopub.status.idle": "2023-01-27T19:26:58.950908Z",
          "shell.execute_reply": "2023-01-27T19:26:58.94948Z",
          "shell.execute_reply.started": "2023-01-27T19:26:58.920337Z"
        },
        "id": "Q_54cNkv2rHK",
        "outputId": "d025f5e7-a1f8-4982-90c6-38bfdefbedf7",
        "trusted": true
      },
      "outputs": [
        {
          "data": {
            "text/html": [
              "<div>\n",
              "<style scoped>\n",
              "    .dataframe tbody tr th:only-of-type {\n",
              "        vertical-align: middle;\n",
              "    }\n",
              "\n",
              "    .dataframe tbody tr th {\n",
              "        vertical-align: top;\n",
              "    }\n",
              "\n",
              "    .dataframe thead th {\n",
              "        text-align: right;\n",
              "    }\n",
              "</style>\n",
              "<table border=\"1\" class=\"dataframe\">\n",
              "  <thead>\n",
              "    <tr style=\"text-align: right;\">\n",
              "      <th></th>\n",
              "      <th>id</th>\n",
              "      <th>post_id</th>\n",
              "      <th>sentence_range</th>\n",
              "      <th>text</th>\n",
              "      <th>label</th>\n",
              "      <th>social_timestamp</th>\n",
              "      <th>social_karma</th>\n",
              "      <th>social_upvote_ratio</th>\n",
              "      <th>social_num_comments</th>\n",
              "    </tr>\n",
              "  </thead>\n",
              "  <tbody>\n",
              "    <tr>\n",
              "      <th>225</th>\n",
              "      <td>1304</td>\n",
              "      <td>77mvd7</td>\n",
              "      <td>[20, 25]</td>\n",
              "      <td>Now they didn't know about HF autism then but ...</td>\n",
              "      <td>1</td>\n",
              "      <td>1508513786</td>\n",
              "      <td>6</td>\n",
              "      <td>1.0</td>\n",
              "      <td>4</td>\n",
              "    </tr>\n",
              "  </tbody>\n",
              "</table>\n",
              "</div>"
            ],
            "text/plain": [
              "       id post_id sentence_range  \\\n",
              "225  1304  77mvd7       [20, 25]   \n",
              "\n",
              "                                                  text  label  \\\n",
              "225  Now they didn't know about HF autism then but ...      1   \n",
              "\n",
              "     social_timestamp  social_karma  social_upvote_ratio  social_num_comments  \n",
              "225        1508513786             6                  1.0                    4  "
            ]
          },
          "execution_count": 7,
          "metadata": {},
          "output_type": "execute_result"
        }
      ],
      "source": [
        "df2.sample()"
      ]
    },
    {
      "cell_type": "code",
      "execution_count": 8,
      "metadata": {
        "execution": {
          "iopub.execute_input": "2023-01-27T19:26:58.953735Z",
          "iopub.status.busy": "2023-01-27T19:26:58.953178Z",
          "iopub.status.idle": "2023-01-27T19:26:58.971599Z",
          "shell.execute_reply": "2023-01-27T19:26:58.970396Z",
          "shell.execute_reply.started": "2023-01-27T19:26:58.953584Z"
        },
        "id": "CBq4L8ye2rHL",
        "trusted": true
      },
      "outputs": [],
      "source": [
        "# We merged the two files. We have completed the missing data.\n",
        "df = pd.concat([df1, df2])"
      ]
    },
    {
      "cell_type": "code",
      "execution_count": 9,
      "metadata": {
        "colab": {
          "base_uri": "https://localhost:8080/"
        },
        "execution": {
          "iopub.execute_input": "2023-01-27T19:26:58.973529Z",
          "iopub.status.busy": "2023-01-27T19:26:58.973036Z",
          "iopub.status.idle": "2023-01-27T19:26:58.981408Z",
          "shell.execute_reply": "2023-01-27T19:26:58.980208Z",
          "shell.execute_reply.started": "2023-01-27T19:26:58.97349Z"
        },
        "id": "ZZHpLW9x2rHL",
        "outputId": "8f339344-27e6-414a-c490-1c05cea67b4a",
        "trusted": true
      },
      "outputs": [
        {
          "data": {
            "text/plain": [
              "(3553, 9)"
            ]
          },
          "execution_count": 9,
          "metadata": {},
          "output_type": "execute_result"
        }
      ],
      "source": [
        "df.shape"
      ]
    },
    {
      "cell_type": "code",
      "execution_count": 10,
      "metadata": {
        "colab": {
          "base_uri": "https://localhost:8080/",
          "height": 602
        },
        "execution": {
          "iopub.execute_input": "2023-01-27T19:26:58.98341Z",
          "iopub.status.busy": "2023-01-27T19:26:58.983008Z",
          "iopub.status.idle": "2023-01-27T19:26:59.019889Z",
          "shell.execute_reply": "2023-01-27T19:26:59.01834Z",
          "shell.execute_reply.started": "2023-01-27T19:26:58.983346Z"
        },
        "id": "p3gFQIaB2rHM",
        "outputId": "d074c00e-63dc-407d-dd4b-377038a239f2",
        "trusted": true
      },
      "outputs": [
        {
          "data": {
            "text/html": [
              "<div>\n",
              "<style scoped>\n",
              "    .dataframe tbody tr th:only-of-type {\n",
              "        vertical-align: middle;\n",
              "    }\n",
              "\n",
              "    .dataframe tbody tr th {\n",
              "        vertical-align: top;\n",
              "    }\n",
              "\n",
              "    .dataframe thead th {\n",
              "        text-align: right;\n",
              "    }\n",
              "</style>\n",
              "<table border=\"1\" class=\"dataframe\">\n",
              "  <thead>\n",
              "    <tr style=\"text-align: right;\">\n",
              "      <th></th>\n",
              "      <th>post_id</th>\n",
              "      <th>sentence_range</th>\n",
              "      <th>text</th>\n",
              "      <th>id</th>\n",
              "      <th>label</th>\n",
              "      <th>social_timestamp</th>\n",
              "      <th>social_karma</th>\n",
              "      <th>social_upvote_ratio</th>\n",
              "      <th>social_num_comments</th>\n",
              "    </tr>\n",
              "  </thead>\n",
              "  <tbody>\n",
              "    <tr>\n",
              "      <th>0</th>\n",
              "      <td>8601tu</td>\n",
              "      <td>(15, 20)</td>\n",
              "      <td>He said he had not felt that way before, sugge...</td>\n",
              "      <td>33181</td>\n",
              "      <td>1</td>\n",
              "      <td>1521614353</td>\n",
              "      <td>5</td>\n",
              "      <td>0.86</td>\n",
              "      <td>1</td>\n",
              "    </tr>\n",
              "    <tr>\n",
              "      <th>1</th>\n",
              "      <td>8lbrx9</td>\n",
              "      <td>(0, 5)</td>\n",
              "      <td>Hey there r/assistance, Not sure if this is th...</td>\n",
              "      <td>2606</td>\n",
              "      <td>0</td>\n",
              "      <td>1527009817</td>\n",
              "      <td>4</td>\n",
              "      <td>0.65</td>\n",
              "      <td>2</td>\n",
              "    </tr>\n",
              "    <tr>\n",
              "      <th>2</th>\n",
              "      <td>9ch1zh</td>\n",
              "      <td>(15, 20)</td>\n",
              "      <td>My mom then hit me with the newspaper and it s...</td>\n",
              "      <td>38816</td>\n",
              "      <td>1</td>\n",
              "      <td>1535935605</td>\n",
              "      <td>2</td>\n",
              "      <td>0.67</td>\n",
              "      <td>0</td>\n",
              "    </tr>\n",
              "    <tr>\n",
              "      <th>3</th>\n",
              "      <td>7rorpp</td>\n",
              "      <td>[5, 10]</td>\n",
              "      <td>until i met my new boyfriend, he is amazing, h...</td>\n",
              "      <td>239</td>\n",
              "      <td>1</td>\n",
              "      <td>1516429555</td>\n",
              "      <td>0</td>\n",
              "      <td>0.50</td>\n",
              "      <td>5</td>\n",
              "    </tr>\n",
              "    <tr>\n",
              "      <th>4</th>\n",
              "      <td>9p2gbc</td>\n",
              "      <td>[0, 5]</td>\n",
              "      <td>October is Domestic Violence Awareness Month a...</td>\n",
              "      <td>1421</td>\n",
              "      <td>1</td>\n",
              "      <td>1539809005</td>\n",
              "      <td>24</td>\n",
              "      <td>1.00</td>\n",
              "      <td>1</td>\n",
              "    </tr>\n",
              "  </tbody>\n",
              "</table>\n",
              "</div>"
            ],
            "text/plain": [
              "  post_id sentence_range                                               text  \\\n",
              "0  8601tu       (15, 20)  He said he had not felt that way before, sugge...   \n",
              "1  8lbrx9         (0, 5)  Hey there r/assistance, Not sure if this is th...   \n",
              "2  9ch1zh       (15, 20)  My mom then hit me with the newspaper and it s...   \n",
              "3  7rorpp        [5, 10]  until i met my new boyfriend, he is amazing, h...   \n",
              "4  9p2gbc         [0, 5]  October is Domestic Violence Awareness Month a...   \n",
              "\n",
              "      id  label  social_timestamp  social_karma  social_upvote_ratio  \\\n",
              "0  33181      1        1521614353             5                 0.86   \n",
              "1   2606      0        1527009817             4                 0.65   \n",
              "2  38816      1        1535935605             2                 0.67   \n",
              "3    239      1        1516429555             0                 0.50   \n",
              "4   1421      1        1539809005            24                 1.00   \n",
              "\n",
              "   social_num_comments  \n",
              "0                    1  \n",
              "1                    2  \n",
              "2                    0  \n",
              "3                    5  \n",
              "4                    1  "
            ]
          },
          "execution_count": 10,
          "metadata": {},
          "output_type": "execute_result"
        }
      ],
      "source": [
        "df.head()"
      ]
    },
    {
      "cell_type": "code",
      "execution_count": 11,
      "metadata": {
        "colab": {
          "base_uri": "https://localhost:8080/"
        },
        "execution": {
          "iopub.execute_input": "2023-01-27T19:26:59.021507Z",
          "iopub.status.busy": "2023-01-27T19:26:59.021165Z",
          "iopub.status.idle": "2023-01-27T19:26:59.030321Z",
          "shell.execute_reply": "2023-01-27T19:26:59.029431Z",
          "shell.execute_reply.started": "2023-01-27T19:26:59.021476Z"
        },
        "id": "qfh6D2ne2rHN",
        "outputId": "e7d5ffe2-0d11-4cf5-e980-52361fbec39f",
        "trusted": true
      },
      "outputs": [
        {
          "data": {
            "text/plain": [
              "Index(['post_id', 'sentence_range', 'text', 'id', 'label', 'social_timestamp',\n",
              "       'social_karma', 'social_upvote_ratio', 'social_num_comments'],\n",
              "      dtype='object')"
            ]
          },
          "execution_count": 11,
          "metadata": {},
          "output_type": "execute_result"
        }
      ],
      "source": [
        "df.columns"
      ]
    },
    {
      "cell_type": "code",
      "execution_count": 12,
      "metadata": {
        "colab": {
          "base_uri": "https://localhost:8080/"
        },
        "execution": {
          "iopub.execute_input": "2023-01-27T19:26:59.034883Z",
          "iopub.status.busy": "2023-01-27T19:26:59.034462Z",
          "iopub.status.idle": "2023-01-27T19:26:59.054086Z",
          "shell.execute_reply": "2023-01-27T19:26:59.053098Z",
          "shell.execute_reply.started": "2023-01-27T19:26:59.034844Z"
        },
        "id": "zUX_kuBE2rHO",
        "outputId": "8b4513f4-1e03-4de5-ee9c-64fc1de75baa",
        "trusted": true
      },
      "outputs": [
        {
          "name": "stdout",
          "output_type": "stream",
          "text": [
            "<class 'pandas.core.frame.DataFrame'>\n",
            "Index: 3553 entries, 0 to 714\n",
            "Data columns (total 9 columns):\n",
            " #   Column               Non-Null Count  Dtype  \n",
            "---  ------               --------------  -----  \n",
            " 0   post_id              3553 non-null   object \n",
            " 1   sentence_range       3553 non-null   object \n",
            " 2   text                 3553 non-null   object \n",
            " 3   id                   3553 non-null   int64  \n",
            " 4   label                3553 non-null   int64  \n",
            " 5   social_timestamp     3553 non-null   int64  \n",
            " 6   social_karma         3553 non-null   int64  \n",
            " 7   social_upvote_ratio  3553 non-null   float64\n",
            " 8   social_num_comments  3553 non-null   int64  \n",
            "dtypes: float64(1), int64(5), object(3)\n",
            "memory usage: 277.6+ KB\n"
          ]
        }
      ],
      "source": [
        "df.info()"
      ]
    },
    {
      "cell_type": "code",
      "execution_count": 13,
      "metadata": {
        "colab": {
          "base_uri": "https://localhost:8080/"
        },
        "execution": {
          "iopub.execute_input": "2023-01-27T19:26:59.05535Z",
          "iopub.status.busy": "2023-01-27T19:26:59.055031Z",
          "iopub.status.idle": "2023-01-27T19:26:59.07561Z",
          "shell.execute_reply": "2023-01-27T19:26:59.074567Z",
          "shell.execute_reply.started": "2023-01-27T19:26:59.055321Z"
        },
        "id": "b3ZJpeYJ2rHO",
        "outputId": "1d2a3816-33a6-444e-9345-e53b61214f07",
        "trusted": true
      },
      "outputs": [
        {
          "data": {
            "text/plain": [
              "post_id                0\n",
              "sentence_range         0\n",
              "text                   0\n",
              "id                     0\n",
              "label                  0\n",
              "social_timestamp       0\n",
              "social_karma           0\n",
              "social_upvote_ratio    0\n",
              "social_num_comments    0\n",
              "dtype: int64"
            ]
          },
          "execution_count": 13,
          "metadata": {},
          "output_type": "execute_result"
        }
      ],
      "source": [
        "df.isnull().sum()"
      ]
    },
    {
      "cell_type": "code",
      "execution_count": 14,
      "metadata": {
        "execution": {
          "iopub.execute_input": "2023-01-27T19:26:59.921045Z",
          "iopub.status.busy": "2023-01-27T19:26:59.920504Z",
          "iopub.status.idle": "2023-01-27T19:26:59.941346Z",
          "shell.execute_reply": "2023-01-27T19:26:59.939469Z",
          "shell.execute_reply.started": "2023-01-27T19:26:59.920995Z"
        },
        "id": "HtbD97DQ2rHP",
        "trusted": true
      },
      "outputs": [],
      "source": [
        "df3=df[[\"text\"]]"
      ]
    },
    {
      "cell_type": "code",
      "execution_count": 15,
      "metadata": {
        "colab": {
          "base_uri": "https://localhost:8080/",
          "height": 206
        },
        "execution": {
          "iopub.execute_input": "2023-01-27T19:26:59.943301Z",
          "iopub.status.busy": "2023-01-27T19:26:59.942902Z",
          "iopub.status.idle": "2023-01-27T19:26:59.955228Z",
          "shell.execute_reply": "2023-01-27T19:26:59.95378Z",
          "shell.execute_reply.started": "2023-01-27T19:26:59.943267Z"
        },
        "id": "X4Gqz-T12rHP",
        "outputId": "c4f59a30-7708-4e0f-afca-f47e60522a94",
        "trusted": true
      },
      "outputs": [
        {
          "data": {
            "text/html": [
              "<div>\n",
              "<style scoped>\n",
              "    .dataframe tbody tr th:only-of-type {\n",
              "        vertical-align: middle;\n",
              "    }\n",
              "\n",
              "    .dataframe tbody tr th {\n",
              "        vertical-align: top;\n",
              "    }\n",
              "\n",
              "    .dataframe thead th {\n",
              "        text-align: right;\n",
              "    }\n",
              "</style>\n",
              "<table border=\"1\" class=\"dataframe\">\n",
              "  <thead>\n",
              "    <tr style=\"text-align: right;\">\n",
              "      <th></th>\n",
              "      <th>text</th>\n",
              "    </tr>\n",
              "  </thead>\n",
              "  <tbody>\n",
              "    <tr>\n",
              "      <th>0</th>\n",
              "      <td>He said he had not felt that way before, sugge...</td>\n",
              "    </tr>\n",
              "    <tr>\n",
              "      <th>1</th>\n",
              "      <td>Hey there r/assistance, Not sure if this is th...</td>\n",
              "    </tr>\n",
              "    <tr>\n",
              "      <th>2</th>\n",
              "      <td>My mom then hit me with the newspaper and it s...</td>\n",
              "    </tr>\n",
              "    <tr>\n",
              "      <th>3</th>\n",
              "      <td>until i met my new boyfriend, he is amazing, h...</td>\n",
              "    </tr>\n",
              "    <tr>\n",
              "      <th>4</th>\n",
              "      <td>October is Domestic Violence Awareness Month a...</td>\n",
              "    </tr>\n",
              "  </tbody>\n",
              "</table>\n",
              "</div>"
            ],
            "text/plain": [
              "                                                text\n",
              "0  He said he had not felt that way before, sugge...\n",
              "1  Hey there r/assistance, Not sure if this is th...\n",
              "2  My mom then hit me with the newspaper and it s...\n",
              "3  until i met my new boyfriend, he is amazing, h...\n",
              "4  October is Domestic Violence Awareness Month a..."
            ]
          },
          "execution_count": 15,
          "metadata": {},
          "output_type": "execute_result"
        }
      ],
      "source": [
        "df3.head()"
      ]
    },
    {
      "cell_type": "markdown",
      "metadata": {
        "id": "e9_kB6FO6O5s"
      },
      "source": [
        "**Data Preprocessing Start**"
      ]
    },
    {
      "cell_type": "code",
      "execution_count": 16,
      "metadata": {
        "execution": {
          "iopub.execute_input": "2023-01-27T19:27:02.854003Z",
          "iopub.status.busy": "2023-01-27T19:27:02.853103Z",
          "iopub.status.idle": "2023-01-27T19:27:02.865316Z",
          "shell.execute_reply": "2023-01-27T19:27:02.864137Z",
          "shell.execute_reply.started": "2023-01-27T19:27:02.853939Z"
        },
        "id": "QMT09X772rHQ",
        "trusted": true
      },
      "outputs": [],
      "source": [
        "import nltk\n",
        "import re\n",
        "stemmer = nltk.SnowballStemmer(\"english\")\n",
        "from nltk.corpus import stopwords\n",
        "import string"
      ]
    },
    {
      "cell_type": "code",
      "execution_count": 17,
      "metadata": {
        "execution": {
          "iopub.execute_input": "2023-01-27T19:27:02.867433Z",
          "iopub.status.busy": "2023-01-27T19:27:02.866958Z",
          "iopub.status.idle": "2023-01-27T19:27:02.880157Z",
          "shell.execute_reply": "2023-01-27T19:27:02.878733Z",
          "shell.execute_reply.started": "2023-01-27T19:27:02.867388Z"
        },
        "id": "n0xEeG932rHQ",
        "trusted": true
      },
      "outputs": [],
      "source": [
        "stopwords = set(stopwords.words(\"english\"))"
      ]
    },
    {
      "cell_type": "code",
      "execution_count": 18,
      "metadata": {
        "execution": {
          "iopub.execute_input": "2023-01-27T19:27:02.882236Z",
          "iopub.status.busy": "2023-01-27T19:27:02.881848Z",
          "iopub.status.idle": "2023-01-27T19:27:05.518571Z",
          "shell.execute_reply": "2023-01-27T19:27:05.517413Z",
          "shell.execute_reply.started": "2023-01-27T19:27:02.8822Z"
        },
        "id": "SEVriFnh2rHQ",
        "trusted": true
      },
      "outputs": [],
      "source": [
        "#we clean up unnecessary marks\n",
        "def clean(text):\n",
        "    # Convert text to lowercase\n",
        "    text = str(text).lower()\n",
        "\n",
        "    # Remove text enclosed in square brackets\n",
        "    text = re.sub('\\[.*?\\]', '', text)\n",
        "\n",
        "    # Remove URLs starting with 'http://' or 'https://' and 'www.'\n",
        "    text = re.sub('https?://\\S+|www\\.\\S+', '', text)\n",
        "\n",
        "    # Remove any HTML tags\n",
        "    text = re.sub('<.*?>+', '', text)\n",
        "\n",
        "    # Remove punctuation characters\n",
        "    text = re.sub('[%s]' % re.escape(string.punctuation), '', text)\n",
        "\n",
        "    # Remove newline characters\n",
        "    text = re.sub('\\n', '', text)\n",
        "\n",
        "    # Remove words containing digits\n",
        "    text = re.sub('\\w*\\d\\w*', '', text)\n",
        "\n",
        "    # Tokenize the text, remove stopwords, and join the words back into a string\n",
        "    text = [word for word in text.split(' ') if word not in stopwords]\n",
        "    text = \" \".join(text)\n",
        "\n",
        "    # Perform stemming on the words\n",
        "    text = [stemmer.stem(word) for word in text.split(' ')]\n",
        "    text = \" \".join(text)\n",
        "\n",
        "    return text\n",
        "\n",
        "df3[\"text\"] = df3[\"text\"].apply(clean)"
      ]
    },
    {
      "cell_type": "code",
      "execution_count": 19,
      "metadata": {
        "execution": {
          "iopub.execute_input": "2023-01-27T19:27:08.229696Z",
          "iopub.status.busy": "2023-01-27T19:27:08.228998Z",
          "iopub.status.idle": "2023-01-27T19:27:08.239726Z",
          "shell.execute_reply": "2023-01-27T19:27:08.238693Z",
          "shell.execute_reply.started": "2023-01-27T19:27:08.229661Z"
        },
        "id": "UteFtg302rHR",
        "trusted": true
      },
      "outputs": [],
      "source": [
        "df3[\"label\"]=df[\"label\"].map({0: \"No Stress\", 1: \"Stress\"})\n",
        "df3=df3[[\"text\", \"label\"]]"
      ]
    },
    {
      "cell_type": "code",
      "execution_count": 20,
      "metadata": {
        "colab": {
          "base_uri": "https://localhost:8080/",
          "height": 206
        },
        "execution": {
          "iopub.execute_input": "2023-01-27T19:27:08.242419Z",
          "iopub.status.busy": "2023-01-27T19:27:08.241457Z",
          "iopub.status.idle": "2023-01-27T19:27:08.260486Z",
          "shell.execute_reply": "2023-01-27T19:27:08.259282Z",
          "shell.execute_reply.started": "2023-01-27T19:27:08.242366Z"
        },
        "id": "waj1I7bi2rHR",
        "outputId": "64228045-330b-4d79-9077-e79a90485a10",
        "trusted": true
      },
      "outputs": [
        {
          "data": {
            "text/html": [
              "<div>\n",
              "<style scoped>\n",
              "    .dataframe tbody tr th:only-of-type {\n",
              "        vertical-align: middle;\n",
              "    }\n",
              "\n",
              "    .dataframe tbody tr th {\n",
              "        vertical-align: top;\n",
              "    }\n",
              "\n",
              "    .dataframe thead th {\n",
              "        text-align: right;\n",
              "    }\n",
              "</style>\n",
              "<table border=\"1\" class=\"dataframe\">\n",
              "  <thead>\n",
              "    <tr style=\"text-align: right;\">\n",
              "      <th></th>\n",
              "      <th>text</th>\n",
              "      <th>label</th>\n",
              "    </tr>\n",
              "  </thead>\n",
              "  <tbody>\n",
              "    <tr>\n",
              "      <th>0</th>\n",
              "      <td>said felt way sugget go rest trigger ahead you...</td>\n",
              "      <td>Stress</td>\n",
              "    </tr>\n",
              "    <tr>\n",
              "      <th>1</th>\n",
              "      <td>hey rassist sure right place post goe  im curr...</td>\n",
              "      <td>No Stress</td>\n",
              "    </tr>\n",
              "    <tr>\n",
              "      <th>2</th>\n",
              "      <td>mom hit newspap shock would know dont like pla...</td>\n",
              "      <td>Stress</td>\n",
              "    </tr>\n",
              "    <tr>\n",
              "      <th>3</th>\n",
              "      <td>met new boyfriend amaz kind sweet good student...</td>\n",
              "      <td>Stress</td>\n",
              "    </tr>\n",
              "    <tr>\n",
              "      <th>4</th>\n",
              "      <td>octob domest violenc awar month domest violenc...</td>\n",
              "      <td>Stress</td>\n",
              "    </tr>\n",
              "  </tbody>\n",
              "</table>\n",
              "</div>"
            ],
            "text/plain": [
              "                                                text      label\n",
              "0  said felt way sugget go rest trigger ahead you...     Stress\n",
              "1  hey rassist sure right place post goe  im curr...  No Stress\n",
              "2  mom hit newspap shock would know dont like pla...     Stress\n",
              "3  met new boyfriend amaz kind sweet good student...     Stress\n",
              "4  octob domest violenc awar month domest violenc...     Stress"
            ]
          },
          "execution_count": 20,
          "metadata": {},
          "output_type": "execute_result"
        }
      ],
      "source": [
        "df3.head()"
      ]
    },
    {
      "cell_type": "code",
      "execution_count": 21,
      "metadata": {
        "execution": {
          "iopub.execute_input": "2023-01-27T19:27:09.635328Z",
          "iopub.status.busy": "2023-01-27T19:27:09.633707Z",
          "iopub.status.idle": "2023-01-27T19:27:09.721216Z",
          "shell.execute_reply": "2023-01-27T19:27:09.720251Z",
          "shell.execute_reply.started": "2023-01-27T19:27:09.635258Z"
        },
        "id": "5fkIqxai2rHS",
        "trusted": true
      },
      "outputs": [],
      "source": [
        "import seaborn as sns"
      ]
    },
    {
      "cell_type": "code",
      "execution_count": 22,
      "metadata": {
        "colab": {
          "base_uri": "https://localhost:8080/",
          "height": 466
        },
        "execution": {
          "iopub.execute_input": "2023-01-27T19:27:09.723271Z",
          "iopub.status.busy": "2023-01-27T19:27:09.722537Z",
          "iopub.status.idle": "2023-01-27T19:27:09.930015Z",
          "shell.execute_reply": "2023-01-27T19:27:09.928715Z",
          "shell.execute_reply.started": "2023-01-27T19:27:09.723234Z"
        },
        "id": "8eMxTvIp2rHb",
        "outputId": "fd0cea2f-76dc-421b-b609-8e47baa300b1",
        "trusted": true
      },
      "outputs": [
        {
          "data": {
            "text/plain": [
              "<Axes: xlabel='label', ylabel='count'>"
            ]
          },
          "execution_count": 22,
          "metadata": {},
          "output_type": "execute_result"
        },
        {
          "data": {
            "image/png": "[encoded data removed]",
            "text/plain": [
              "<Figure size 640x480 with 1 Axes>"
            ]
          },
          "metadata": {},
          "output_type": "display_data"
        }
      ],
      "source": [
        "sns.countplot(x=df3.label)"
      ]
    },
    {
      "cell_type": "markdown",
      "metadata": {
        "id": "ahtTS1wW8g-d"
      },
      "source": [
        "**Data Splitting**"
      ]
    },
    {
      "cell_type": "code",
      "execution_count": 23,
      "metadata": {
        "execution": {
          "iopub.execute_input": "2023-01-27T19:27:09.932241Z",
          "iopub.status.busy": "2023-01-27T19:27:09.931744Z",
          "iopub.status.idle": "2023-01-27T19:27:09.938432Z",
          "shell.execute_reply": "2023-01-27T19:27:09.937137Z",
          "shell.execute_reply.started": "2023-01-27T19:27:09.932192Z"
        },
        "id": "5ShvISv52rHb",
        "trusted": true
      },
      "outputs": [
        {
          "data": {
            "text/html": [
              "<div>\n",
              "<style scoped>\n",
              "    .dataframe tbody tr th:only-of-type {\n",
              "        vertical-align: middle;\n",
              "    }\n",
              "\n",
              "    .dataframe tbody tr th {\n",
              "        vertical-align: top;\n",
              "    }\n",
              "\n",
              "    .dataframe thead th {\n",
              "        text-align: right;\n",
              "    }\n",
              "</style>\n",
              "<table border=\"1\" class=\"dataframe\">\n",
              "  <thead>\n",
              "    <tr style=\"text-align: right;\">\n",
              "      <th></th>\n",
              "      <th>text</th>\n",
              "      <th>label</th>\n",
              "    </tr>\n",
              "  </thead>\n",
              "  <tbody>\n",
              "    <tr>\n",
              "      <th>0</th>\n",
              "      <td>said felt way sugget go rest trigger ahead you...</td>\n",
              "      <td>Stress</td>\n",
              "    </tr>\n",
              "    <tr>\n",
              "      <th>1</th>\n",
              "      <td>hey rassist sure right place post goe  im curr...</td>\n",
              "      <td>No Stress</td>\n",
              "    </tr>\n",
              "    <tr>\n",
              "      <th>2</th>\n",
              "      <td>mom hit newspap shock would know dont like pla...</td>\n",
              "      <td>Stress</td>\n",
              "    </tr>\n",
              "    <tr>\n",
              "      <th>3</th>\n",
              "      <td>met new boyfriend amaz kind sweet good student...</td>\n",
              "      <td>Stress</td>\n",
              "    </tr>\n",
              "    <tr>\n",
              "      <th>4</th>\n",
              "      <td>octob domest violenc awar month domest violenc...</td>\n",
              "      <td>Stress</td>\n",
              "    </tr>\n",
              "  </tbody>\n",
              "</table>\n",
              "</div>"
            ],
            "text/plain": [
              "                                                text      label\n",
              "0  said felt way sugget go rest trigger ahead you...     Stress\n",
              "1  hey rassist sure right place post goe  im curr...  No Stress\n",
              "2  mom hit newspap shock would know dont like pla...     Stress\n",
              "3  met new boyfriend amaz kind sweet good student...     Stress\n",
              "4  octob domest violenc awar month domest violenc...     Stress"
            ]
          },
          "execution_count": 23,
          "metadata": {},
          "output_type": "execute_result"
        }
      ],
      "source": [
        "x=df3.text\n",
        "y=df3.label\n",
        "df3.head()"
      ]
    },
    {
      "cell_type": "code",
      "execution_count": 24,
      "metadata": {
        "execution": {
          "iopub.execute_input": "2023-01-27T19:27:09.940318Z",
          "iopub.status.busy": "2023-01-27T19:27:09.93995Z",
          "iopub.status.idle": "2023-01-27T19:27:09.952676Z",
          "shell.execute_reply": "2023-01-27T19:27:09.95133Z",
          "shell.execute_reply.started": "2023-01-27T19:27:09.940287Z"
        },
        "id": "EXYt0lW02rHc",
        "trusted": true
      },
      "outputs": [],
      "source": [
        "from sklearn.feature_extraction.text import CountVectorizer\n",
        "from sklearn.model_selection import train_test_split\n",
        "from sklearn.metrics import accuracy_score"
      ]
    },
    {
      "cell_type": "code",
      "execution_count": 25,
      "metadata": {
        "execution": {
          "iopub.execute_input": "2023-01-27T19:27:09.955208Z",
          "iopub.status.busy": "2023-01-27T19:27:09.954824Z",
          "iopub.status.idle": "2023-01-27T19:27:09.966017Z",
          "shell.execute_reply": "2023-01-27T19:27:09.964522Z",
          "shell.execute_reply.started": "2023-01-27T19:27:09.955172Z"
        },
        "id": "aGVSnvhH2rHc",
        "trusted": true
      },
      "outputs": [],
      "source": [
        "# CountVectorizer is a class in scikit-learn used for converting text data into a numerical representation. It works by creating a \"bag of words\" model, where each document (or text) is represented as a vector of word frequencies.\n",
        "vect=CountVectorizer(stop_words=\"english\")"
      ]
    },
    {
      "cell_type": "code",
      "execution_count": 26,
      "metadata": {
        "execution": {
          "iopub.execute_input": "2023-01-27T19:27:09.967831Z",
          "iopub.status.busy": "2023-01-27T19:27:09.967132Z",
          "iopub.status.idle": "2023-01-27T19:27:10.128443Z",
          "shell.execute_reply": "2023-01-27T19:27:10.127198Z",
          "shell.execute_reply.started": "2023-01-27T19:27:09.967791Z"
        },
        "id": "rpR7LlIu2rHc",
        "trusted": true
      },
      "outputs": [],
      "source": [
        "x=vect.fit_transform(x)"
      ]
    },
    {
      "cell_type": "code",
      "execution_count": 27,
      "metadata": {
        "execution": {
          "iopub.execute_input": "2023-01-27T19:27:10.135584Z",
          "iopub.status.busy": "2023-01-27T19:27:10.135183Z",
          "iopub.status.idle": "2023-01-27T19:27:10.143852Z",
          "shell.execute_reply": "2023-01-27T19:27:10.142866Z",
          "shell.execute_reply.started": "2023-01-27T19:27:10.13555Z"
        },
        "id": "1Bl8vXu_2rHc",
        "trusted": true
      },
      "outputs": [],
      "source": [
        "x_train,x_test,y_train,y_test=train_test_split(x,y,random_state=42)"
      ]
    },
    {
      "cell_type": "markdown",
      "metadata": {
        "id": "P1ZC9m4Kn1qH"
      },
      "source": [
        "**Decision Tree**"
      ]
    },
    {
      "cell_type": "code",
      "execution_count": 28,
      "metadata": {
        "execution": {
          "iopub.execute_input": "2023-01-27T19:27:10.231046Z",
          "iopub.status.busy": "2023-01-27T19:27:10.22989Z",
          "iopub.status.idle": "2023-01-27T19:27:10.235804Z",
          "shell.execute_reply": "2023-01-27T19:27:10.234687Z",
          "shell.execute_reply.started": "2023-01-27T19:27:10.231006Z"
        },
        "id": "ndgfXm_f2rHc",
        "trusted": true
      },
      "outputs": [],
      "source": [
        "from sklearn.tree import DecisionTreeClassifier\n",
        "d=DecisionTreeClassifier()"
      ]
    },
    {
      "cell_type": "code",
      "execution_count": 29,
      "metadata": {
        "colab": {
          "base_uri": "https://localhost:8080/",
          "height": 74
        },
        "execution": {
          "iopub.execute_input": "2023-01-27T19:27:10.238356Z",
          "iopub.status.busy": "2023-01-27T19:27:10.237219Z",
          "iopub.status.idle": "2023-01-27T19:27:10.711951Z",
          "shell.execute_reply": "2023-01-27T19:27:10.710989Z",
          "shell.execute_reply.started": "2023-01-27T19:27:10.238311Z"
        },
        "id": "KrHIaFEB2rHd",
        "outputId": "677257e1-dbcd-4888-87f1-eec7bc2ee893",
        "trusted": true
      },
      "outputs": [
        {
          "data": {
            "text/html": [
              "<style>#sk-container-id-1 {color: black;}#sk-container-id-1 pre{padding: 0;}#sk-container-id-1 div.sk-toggleable {background-color: white;}#sk-container-id-1 label.sk-toggleable__label {cursor: pointer;display: block;width: 100%;margin-bottom: 0;padding: 0.3em;box-sizing: border-box;text-align: center;}#sk-container-id-1 label.sk-toggleable__label-arrow:before {content: \"▸\";float: left;margin-right: 0.25em;color: #696969;}#sk-container-id-1 label.sk-toggleable__label-arrow:hover:before {color: black;}#sk-container-id-1 div.sk-estimator:hover label.sk-toggleable__label-arrow:before {color: black;}#sk-container-id-1 div.sk-toggleable__content {max-height: 0;max-width: 0;overflow: hidden;text-align: left;background-color: #f0f8ff;}#sk-container-id-1 div.sk-toggleable__content pre {margin: 0.2em;color: black;border-radius: 0.25em;background-color: #f0f8ff;}#sk-container-id-1 input.sk-toggleable__control:checked~div.sk-toggleable__content {max-height: 200px;max-width: 100%;overflow: auto;}#sk-container-id-1 input.sk-toggleable__control:checked~label.sk-toggleable__label-arrow:before {content: \"▾\";}#sk-container-id-1 div.sk-estimator input.sk-toggleable__control:checked~label.sk-toggleable__label {background-color: #d4ebff;}#sk-container-id-1 div.sk-label input.sk-toggleable__control:checked~label.sk-toggleable__label {background-color: #d4ebff;}#sk-container-id-1 input.sk-hidden--visually {border: 0;clip: rect(1px 1px 1px 1px);clip: rect(1px, 1px, 1px, 1px);height: 1px;margin: -1px;overflow: hidden;padding: 0;position: absolute;width: 1px;}#sk-container-id-1 div.sk-estimator {font-family: monospace;background-color: #f0f8ff;border: 1px dotted black;border-radius: 0.25em;box-sizing: border-box;margin-bottom: 0.5em;}#sk-container-id-1 div.sk-estimator:hover {background-color: #d4ebff;}#sk-container-id-1 div.sk-parallel-item::after {content: \"\";width: 100%;border-bottom: 1px solid gray;flex-grow: 1;}#sk-container-id-1 div.sk-label:hover label.sk-toggleable__label {background-color: #d4ebff;}#sk-container-id-1 div.sk-serial::before {content: \"\";position: absolute;border-left: 1px solid gray;box-sizing: border-box;top: 0;bottom: 0;left: 50%;z-index: 0;}#sk-container-id-1 div.sk-serial {display: flex;flex-direction: column;align-items: center;background-color: white;padding-right: 0.2em;padding-left: 0.2em;position: relative;}#sk-container-id-1 div.sk-item {position: relative;z-index: 1;}#sk-container-id-1 div.sk-parallel {display: flex;align-items: stretch;justify-content: center;background-color: white;position: relative;}#sk-container-id-1 div.sk-item::before, #sk-container-id-1 div.sk-parallel-item::before {content: \"\";position: absolute;border-left: 1px solid gray;box-sizing: border-box;top: 0;bottom: 0;left: 50%;z-index: -1;}#sk-container-id-1 div.sk-parallel-item {display: flex;flex-direction: column;z-index: 1;position: relative;background-color: white;}#sk-container-id-1 div.sk-parallel-item:first-child::after {align-self: flex-end;width: 50%;}#sk-container-id-1 div.sk-parallel-item:last-child::after {align-self: flex-start;width: 50%;}#sk-container-id-1 div.sk-parallel-item:only-child::after {width: 0;}#sk-container-id-1 div.sk-dashed-wrapped {border: 1px dashed gray;margin: 0 0.4em 0.5em 0.4em;box-sizing: border-box;padding-bottom: 0.4em;background-color: white;}#sk-container-id-1 div.sk-label label {font-family: monospace;font-weight: bold;display: inline-block;line-height: 1.2em;}#sk-container-id-1 div.sk-label-container {text-align: center;}#sk-container-id-1 div.sk-container {/* jupyter's `normalize.less` sets `[hidden] { display: none; }` but bootstrap.min.css set `[hidden] { display: none !important; }` so we also need the `!important` here to be able to override the default hidden behavior on the sphinx rendered scikit-learn.org. See: https://github.com/scikit-learn/scikit-learn/issues/21755 */display: inline-block !important;position: relative;}#sk-container-id-1 div.sk-text-repr-fallback {display: none;}</style><div id=\"sk-container-id-1\" class=\"sk-top-container\"><div class=\"sk-text-repr-fallback\"><pre>DecisionTreeClassifier()</pre><b>In a Jupyter environment, please rerun this cell to show the HTML representation or trust the notebook. <br />On GitHub, the HTML representation is unable to render, please try loading this page with nbviewer.org.</b></div><div class=\"sk-container\" hidden><div class=\"sk-item\"><div class=\"sk-estimator sk-toggleable\"><input class=\"sk-toggleable__control sk-hidden--visually\" id=\"sk-estimator-id-1\" type=\"checkbox\" checked><label for=\"sk-estimator-id-1\" class=\"sk-toggleable__label sk-toggleable__label-arrow\">DecisionTreeClassifier</label><div class=\"sk-toggleable__content\"><pre>DecisionTreeClassifier()</pre></div></div></div></div></div>"
            ],
            "text/plain": [
              "DecisionTreeClassifier()"
            ]
          },
          "execution_count": 29,
          "metadata": {},
          "output_type": "execute_result"
        }
      ],
      "source": [
        "d.fit(x_train,y_train)"
      ]
    },
    {
      "cell_type": "code",
      "execution_count": 30,
      "metadata": {
        "id": "MWzZCHXq3O_x"
      },
      "outputs": [],
      "source": [
        "pred1=d.predict(x_test)"
      ]
    },
    {
      "cell_type": "code",
      "execution_count": 31,
      "metadata": {
        "colab": {
          "base_uri": "https://localhost:8080/"
        },
        "execution": {
          "iopub.execute_input": "2023-01-27T19:27:10.722296Z",
          "iopub.status.busy": "2023-01-27T19:27:10.721963Z",
          "iopub.status.idle": "2023-01-27T19:27:10.736781Z",
          "shell.execute_reply": "2023-01-27T19:27:10.735393Z",
          "shell.execute_reply.started": "2023-01-27T19:27:10.722266Z"
        },
        "id": "pf1rPQpK2rHd",
        "outputId": "2ff313c7-f191-435b-cf5e-2ec322940e4b",
        "trusted": true
      },
      "outputs": [
        {
          "data": {
            "text/plain": [
              "0.6175478065241845"
            ]
          },
          "execution_count": 31,
          "metadata": {},
          "output_type": "execute_result"
        }
      ],
      "source": [
        "ac1 = accuracy_score(y_test,pred1)\n",
        "ac1"
      ]
    },
    {
      "cell_type": "code",
      "execution_count": 32,
      "metadata": {},
      "outputs": [
        {
          "data": {
            "image/png": "[encoded data removed]",
            "text/plain": [
              "<Figure size 640x480 with 2 Axes>"
            ]
          },
          "metadata": {},
          "output_type": "display_data"
        }
      ],
      "source": [
        "import matplotlib.pyplot as plt\n",
        "from sklearn.metrics import confusion_matrix, ConfusionMatrixDisplay\n",
        "confusion = confusion_matrix(y_test, pred1)\n",
        "disp = ConfusionMatrixDisplay(confusion)\n",
        "disp.plot()\n",
        "plt.show()"
      ]
    },
    {
      "cell_type": "markdown",
      "metadata": {
        "id": "stgghoz3n6uj"
      },
      "source": [
        "**Random Forest**"
      ]
    },
    {
      "cell_type": "code",
      "execution_count": 33,
      "metadata": {
        "id": "j8PNeTfn1r3-"
      },
      "outputs": [],
      "source": [
        "from sklearn.ensemble import RandomForestClassifier\n",
        "rf = RandomForestClassifier(n_estimators=100, random_state=42)"
      ]
    },
    {
      "cell_type": "code",
      "execution_count": 34,
      "metadata": {
        "colab": {
          "base_uri": "https://localhost:8080/",
          "height": 74
        },
        "id": "BYSqRrMd1r46",
        "outputId": "d9889f3c-971d-4302-d6f9-c54c1f69735e"
      },
      "outputs": [
        {
          "data": {
            "text/html": [
              "<style>#sk-container-id-2 {color: black;}#sk-container-id-2 pre{padding: 0;}#sk-container-id-2 div.sk-toggleable {background-color: white;}#sk-container-id-2 label.sk-toggleable__label {cursor: pointer;display: block;width: 100%;margin-bottom: 0;padding: 0.3em;box-sizing: border-box;text-align: center;}#sk-container-id-2 label.sk-toggleable__label-arrow:before {content: \"▸\";float: left;margin-right: 0.25em;color: #696969;}#sk-container-id-2 label.sk-toggleable__label-arrow:hover:before {color: black;}#sk-container-id-2 div.sk-estimator:hover label.sk-toggleable__label-arrow:before {color: black;}#sk-container-id-2 div.sk-toggleable__content {max-height: 0;max-width: 0;overflow: hidden;text-align: left;background-color: #f0f8ff;}#sk-container-id-2 div.sk-toggleable__content pre {margin: 0.2em;color: black;border-radius: 0.25em;background-color: #f0f8ff;}#sk-container-id-2 input.sk-toggleable__control:checked~div.sk-toggleable__content {max-height: 200px;max-width: 100%;overflow: auto;}#sk-container-id-2 input.sk-toggleable__control:checked~label.sk-toggleable__label-arrow:before {content: \"▾\";}#sk-container-id-2 div.sk-estimator input.sk-toggleable__control:checked~label.sk-toggleable__label {background-color: #d4ebff;}#sk-container-id-2 div.sk-label input.sk-toggleable__control:checked~label.sk-toggleable__label {background-color: #d4ebff;}#sk-container-id-2 input.sk-hidden--visually {border: 0;clip: rect(1px 1px 1px 1px);clip: rect(1px, 1px, 1px, 1px);height: 1px;margin: -1px;overflow: hidden;padding: 0;position: absolute;width: 1px;}#sk-container-id-2 div.sk-estimator {font-family: monospace;background-color: #f0f8ff;border: 1px dotted black;border-radius: 0.25em;box-sizing: border-box;margin-bottom: 0.5em;}#sk-container-id-2 div.sk-estimator:hover {background-color: #d4ebff;}#sk-container-id-2 div.sk-parallel-item::after {content: \"\";width: 100%;border-bottom: 1px solid gray;flex-grow: 1;}#sk-container-id-2 div.sk-label:hover label.sk-toggleable__label {background-color: #d4ebff;}#sk-container-id-2 div.sk-serial::before {content: \"\";position: absolute;border-left: 1px solid gray;box-sizing: border-box;top: 0;bottom: 0;left: 50%;z-index: 0;}#sk-container-id-2 div.sk-serial {display: flex;flex-direction: column;align-items: center;background-color: white;padding-right: 0.2em;padding-left: 0.2em;position: relative;}#sk-container-id-2 div.sk-item {position: relative;z-index: 1;}#sk-container-id-2 div.sk-parallel {display: flex;align-items: stretch;justify-content: center;background-color: white;position: relative;}#sk-container-id-2 div.sk-item::before, #sk-container-id-2 div.sk-parallel-item::before {content: \"\";position: absolute;border-left: 1px solid gray;box-sizing: border-box;top: 0;bottom: 0;left: 50%;z-index: -1;}#sk-container-id-2 div.sk-parallel-item {display: flex;flex-direction: column;z-index: 1;position: relative;background-color: white;}#sk-container-id-2 div.sk-parallel-item:first-child::after {align-self: flex-end;width: 50%;}#sk-container-id-2 div.sk-parallel-item:last-child::after {align-self: flex-start;width: 50%;}#sk-container-id-2 div.sk-parallel-item:only-child::after {width: 0;}#sk-container-id-2 div.sk-dashed-wrapped {border: 1px dashed gray;margin: 0 0.4em 0.5em 0.4em;box-sizing: border-box;padding-bottom: 0.4em;background-color: white;}#sk-container-id-2 div.sk-label label {font-family: monospace;font-weight: bold;display: inline-block;line-height: 1.2em;}#sk-container-id-2 div.sk-label-container {text-align: center;}#sk-container-id-2 div.sk-container {/* jupyter's `normalize.less` sets `[hidden] { display: none; }` but bootstrap.min.css set `[hidden] { display: none !important; }` so we also need the `!important` here to be able to override the default hidden behavior on the sphinx rendered scikit-learn.org. See: https://github.com/scikit-learn/scikit-learn/issues/21755 */display: inline-block !important;position: relative;}#sk-container-id-2 div.sk-text-repr-fallback {display: none;}</style><div id=\"sk-container-id-2\" class=\"sk-top-container\"><div class=\"sk-text-repr-fallback\"><pre>RandomForestClassifier(random_state=42)</pre><b>In a Jupyter environment, please rerun this cell to show the HTML representation or trust the notebook. <br />On GitHub, the HTML representation is unable to render, please try loading this page with nbviewer.org.</b></div><div class=\"sk-container\" hidden><div class=\"sk-item\"><div class=\"sk-estimator sk-toggleable\"><input class=\"sk-toggleable__control sk-hidden--visually\" id=\"sk-estimator-id-2\" type=\"checkbox\" checked><label for=\"sk-estimator-id-2\" class=\"sk-toggleable__label sk-toggleable__label-arrow\">RandomForestClassifier</label><div class=\"sk-toggleable__content\"><pre>RandomForestClassifier(random_state=42)</pre></div></div></div></div></div>"
            ],
            "text/plain": [
              "RandomForestClassifier(random_state=42)"
            ]
          },
          "execution_count": 34,
          "metadata": {},
          "output_type": "execute_result"
        }
      ],
      "source": [
        "rf.fit(x_train, y_train)"
      ]
    },
    {
      "cell_type": "code",
      "execution_count": 35,
      "metadata": {
        "id": "1hPz_raT1sCN"
      },
      "outputs": [],
      "source": [
        "pred2 = rf.predict(x_test)"
      ]
    },
    {
      "cell_type": "code",
      "execution_count": 36,
      "metadata": {
        "colab": {
          "base_uri": "https://localhost:8080/"
        },
        "id": "FSxuO0Uh3Yn6",
        "outputId": "4b65d89f-6986-4c66-bcda-636340a6535d"
      },
      "outputs": [
        {
          "data": {
            "text/plain": [
              "0.7446569178852643"
            ]
          },
          "execution_count": 36,
          "metadata": {},
          "output_type": "execute_result"
        }
      ],
      "source": [
        "ac2 = accuracy_score(y_test, pred2)\n",
        "ac2 "
      ]
    },
    {
      "cell_type": "code",
      "execution_count": 37,
      "metadata": {},
      "outputs": [
        {
          "data": {
            "image/png": "[encoded data removed]",
            "text/plain": [
              "<Figure size 640x480 with 2 Axes>"
            ]
          },
          "metadata": {},
          "output_type": "display_data"
        }
      ],
      "source": [
        "import matplotlib.pyplot as plt\n",
        "from sklearn.metrics import confusion_matrix, ConfusionMatrixDisplay\n",
        "confusion = confusion_matrix(y_test, pred2)\n",
        "disp = ConfusionMatrixDisplay(confusion)\n",
        "disp.plot()\n",
        "plt.show()"
      ]
    },
    {
      "cell_type": "code",
      "execution_count": 38,
      "metadata": {},
      "outputs": [
        {
          "data": {
            "image/png": "[encoded data removed]",
            "text/plain": [
              "<Figure size 640x480 with 1 Axes>"
            ]
          },
          "metadata": {},
          "output_type": "display_data"
        }
      ],
      "source": [
        "algorithms = ['Decision Tree', 'Random Forest']\n",
        "accuracies = [ac1, ac2]\n",
        "\n",
        "plt.bar(algorithms, accuracies, color=['blue', 'orange'])\n",
        "plt.ylabel('Accuracy')\n",
        "plt.title('Accuracy Comparison of Algorithms A and B')\n",
        "plt.ylim(0, 1)  \n",
        "plt.show()"
      ]
    },
    {
      "cell_type": "markdown",
      "metadata": {
        "id": "i9lGYsSa2rHd"
      },
      "source": [
        "### Model Testing:"
      ]
    },
    {
      "cell_type": "code",
      "execution_count": 39,
      "metadata": {
        "id": "57tECrbi6ofj"
      },
      "outputs": [],
      "source": [
        "import re\n",
        "import string\n",
        "from nltk.corpus import stopwords\n",
        "from nltk.tokenize import word_tokenize\n"
      ]
    },
    {
      "cell_type": "code",
      "execution_count": 40,
      "metadata": {
        "id": "0HGQXIk-6ULc"
      },
      "outputs": [],
      "source": [
        "def preprocess_text(text):\n",
        "    # Convert text to lowercase\n",
        "    text = text.lower()\n",
        "\n",
        "    # Remove punctuation and special characters\n",
        "    text = re.sub(f\"[{re.escape(string.punctuation)}]\", '', text)\n",
        "\n",
        "    # Tokenize the text\n",
        "    tokens = word_tokenize(text)\n",
        "\n",
        "    # Remove stopwords\n",
        "    stop_words = set(stopwords.words('english'))\n",
        "    tokens = [word for word in tokens if word not in stop_words]\n",
        "\n",
        "    # Join tokens back into a single string\n",
        "    preprocessed_text = ' '.join(tokens)\n",
        "\n",
        "    return preprocessed_text"
      ]
    },
    {
      "cell_type": "code",
      "execution_count": 41,
      "metadata": {
        "execution": {
          "iopub.execute_input": "2023-01-27T19:27:10.739521Z",
          "iopub.status.busy": "2023-01-27T19:27:10.739011Z",
          "iopub.status.idle": "2023-01-27T19:27:14.256561Z",
          "shell.execute_reply": "2023-01-27T19:27:14.255129Z",
          "shell.execute_reply.started": "2023-01-27T19:27:10.739466Z"
        },
        "id": "8nF5Abbj2rHe",
        "trusted": true
      },
      "outputs": [],
      "source": [
        "user=\"Today I conducted a workshop for 2 hours returned home and started working on my project. I am feeling very tired. I am not able to concentrate on my work. I am feeling very low. I am not able to sleep properly. I am not able to eat properly. I am not able to do anything. I am feeling very low. I am not able to sleep properly. I am not able to eat properly. I am not able to do anything. I am feeling very low. I am not able to sleep properly. I am not able to eat properly. I am not able to do anything. I am feeling very low. I am not able to sleep properly. I am not able to eat properly. I am not able to do anything. I am feeling very low. I am not able to sleep properly. I am not able to eat properly. I am not able to do anything. I am feeling very low. I am not able to sleep properly. I am not able to eat properly. I am not able to do anything. I am feeling very low. I am not able to sleep properly. I am not able to eat properly. I am not able to do anything.\""
      ]
    },
    {
      "cell_type": "code",
      "execution_count": 42,
      "metadata": {
        "id": "OYjQO2I5DaM9"
      },
      "outputs": [],
      "source": [
        "user = preprocess_text(user)"
      ]
    },
    {
      "cell_type": "code",
      "execution_count": 43,
      "metadata": {
        "colab": {
          "base_uri": "https://localhost:8080/"
        },
        "execution": {
          "iopub.execute_input": "2023-01-27T19:27:28.397506Z",
          "iopub.status.busy": "2023-01-27T19:27:28.396751Z",
          "iopub.status.idle": "2023-01-27T19:27:38.492431Z",
          "shell.execute_reply": "2023-01-27T19:27:38.491253Z",
          "shell.execute_reply.started": "2023-01-27T19:27:28.397468Z"
        },
        "id": "rOjsCEVN2rHe",
        "outputId": "9cfd3844-3293-4941-e8b3-3f4d43a9b15f",
        "trusted": true
      },
      "outputs": [
        {
          "name": "stdout",
          "output_type": "stream",
          "text": [
            "['Stress']\n"
          ]
        }
      ],
      "source": [
        "df4=vect.transform([user]).toarray()\n",
        "output=rf.predict(df4)\n",
        "print(output)"
      ]
    },
    {
      "cell_type": "markdown",
      "metadata": {
        "id": "cfkvNf-A4CLs"
      },
      "source": [
        "**Code to get first post caption of user to predict**"
      ]
    },
    {
      "cell_type": "code",
      "execution_count": 44,
      "metadata": {
        "id": "6OK4nqM248vd"
      },
      "outputs": [],
      "source": [
        "# This line imports the instaloader library, which is used to interact with Instagram profiles and retrieve data from them\n",
        "# import instaloader"
      ]
    },
    {
      "cell_type": "code",
      "execution_count": 45,
      "metadata": {
        "colab": {
          "base_uri": "https://localhost:8080/"
        },
        "id": "Tlvbywgt3zR7",
        "outputId": "d271fae2-d35f-4bc3-c20c-797dd2c18fa2"
      },
      "outputs": [
        {
          "name": "stderr",
          "output_type": "stream",
          "text": [
            "JSON Query to api/v1/users/web_profile_info/?username=: 404 Not Found [retrying; skip with ^C]\n",
            "JSON Query to api/v1/users/web_profile_info/?username=: 404 Not Found [retrying; skip with ^C]\n",
            "JSON Query to web/search/topsearch/: HTTP error code 401. [retrying; skip with ^C]\n",
            "JSON Query to web/search/topsearch/: HTTP error code 401. [retrying; skip with ^C]\n"
          ]
        },
        {
          "name": "stdout",
          "output_type": "stream",
          "text": [
            "Error: JSON Query to web/search/topsearch/: HTTP error code 401.\n",
            "Unable to retrieve the caption.\n"
          ]
        }
      ],
      "source": [
        "# def get_first_post_caption(username):\n",
        "#     L = instaloader.Instaloader()\n",
        "\n",
        "#     try:\n",
        "#         profile = instaloader.Profile.from_username(L.context, username)\n",
        "#         posts = profile.get_posts()\n",
        "\n",
        "#         for post in posts:\n",
        "#             caption = post.caption\n",
        "#             if caption:\n",
        "#                 return caption\n",
        "\n",
        "#     except Exception as e:\n",
        "#         print(f\"Error: {e}\")\n",
        "#         return None\n",
        "\n",
        "# if __name__ == \"__main__\":\n",
        "#     username = input(\"Enter the Instagram username: \")\n",
        "#     caption = get_first_post_caption(username)\n",
        "\n",
        "#     if caption:\n",
        "#         preprocessed = preprocess_text(caption)\n",
        "#         inp=vect.transform([preprocessed]).toarray()\n",
        "#         output=rf.predict(inp)\n",
        "#         print(output)\n",
        "#     else:\n",
        "#         print(\"Unable to retrieve the caption.\")"
      ]
    },
    {
      "cell_type": "code",
      "execution_count": null,
      "metadata": {},
      "outputs": [],
      "source": []
    }
  ],
  "metadata": {
    "colab": {
      "provenance": []
    },
    "kernelspec": {
      "display_name": "Python 3",
      "language": "python",
      "name": "python3"
    },
    "language_info": {
      "codemirror_mode": {
        "name": "ipython",
        "version": 3
      },
      "file_extension": ".py",
      "mimetype": "text/x-python",
      "name": "python",
      "nbconvert_exporter": "python",
      "pygments_lexer": "ipython3",
      "version": "3.11.4"
    }
  },
  "nbformat": 4,
  "nbformat_minor": 0
}
